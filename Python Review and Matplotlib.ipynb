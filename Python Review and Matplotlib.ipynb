{
 "cells": [
  {
   "cell_type": "code",
   "execution_count": 1,
   "id": "8f17dc08-c959-4319-b4ab-735059458e8a",
   "metadata": {
    "tags": []
   },
   "outputs": [],
   "source": [
    "# project: p1\n",
    "# submitter: raffanti\n",
    "# partner: none\n",
    "# hours: 10"
   ]
  },
  {
   "cell_type": "code",
   "execution_count": 2,
   "id": "56ffb41f-1768-43a6-9e1c-df575ffc218f",
   "metadata": {},
   "outputs": [],
   "source": [
    "import os, sys, json, csv, re, math\n",
    "import matplotlib.pyplot as plt\n",
    "import pandas\n",
    "import pandas as pd"
   ]
  },
  {
   "cell_type": "code",
   "execution_count": 3,
   "id": "57a61644-228f-498f-aa16-da835dc81606",
   "metadata": {},
   "outputs": [
    {
     "data": {
      "text/plain": [
       "float"
      ]
     },
     "execution_count": 3,
     "metadata": {},
     "output_type": "execute_result"
    }
   ],
   "source": [
    "#Q1\n",
    "type(7/2)"
   ]
  },
  {
   "cell_type": "code",
   "execution_count": 4,
   "id": "21a2a545-bbe8-421a-a84d-3550183dffa1",
   "metadata": {},
   "outputs": [
    {
     "data": {
      "text/plain": [
       "True"
      ]
     },
     "execution_count": 4,
     "metadata": {},
     "output_type": "execute_result"
    }
   ],
   "source": [
    "#Q2\n",
    "x = 4\n",
    "maximum = 10\n",
    "minimum = 5\n",
    "error = x < minimum or x > maximum\n",
    "error"
   ]
  },
  {
   "cell_type": "code",
   "execution_count": 5,
   "id": "14726da3-65ff-4215-9a72-2737d2dfbd80",
   "metadata": {},
   "outputs": [
    {
     "data": {
      "text/plain": [
       "True"
      ]
     },
     "execution_count": 5,
     "metadata": {},
     "output_type": "execute_result"
    }
   ],
   "source": [
    "#Q3\n",
    "word = \"KAFKAESQUE\"\n",
    "suffix_match = (word.upper()[5:] == \"ESQUE\")\n",
    "suffix_match"
   ]
  },
  {
   "cell_type": "code",
   "execution_count": 6,
   "id": "43658eb5-2f06-46cf-896f-3397812064b9",
   "metadata": {},
   "outputs": [
    {
     "data": {
      "text/plain": [
       "7"
      ]
     },
     "execution_count": 6,
     "metadata": {},
     "output_type": "execute_result"
    }
   ],
   "source": [
    "#Q4\n",
    "def add(x=1, y=None):\n",
    "    if y is None:\n",
    "        return x + 1\n",
    "    else:\n",
    "        return x + y\n",
    "    \n",
    "add(3, 4)"
   ]
  },
  {
   "cell_type": "code",
   "execution_count": 7,
   "id": "9407d675-6707-4eed-917e-31bf5323ac85",
   "metadata": {},
   "outputs": [
    {
     "data": {
      "text/plain": [
       "10"
      ]
     },
     "execution_count": 7,
     "metadata": {},
     "output_type": "execute_result"
    }
   ],
   "source": [
    "#Q5\n",
    "add(9)"
   ]
  },
  {
   "cell_type": "code",
   "execution_count": 8,
   "id": "7501fbdc-c52f-4d9c-aac8-52c51e7ce803",
   "metadata": {},
   "outputs": [
    {
     "data": {
      "text/plain": [
       "'positive'"
      ]
     },
     "execution_count": 8,
     "metadata": {},
     "output_type": "execute_result"
    }
   ],
   "source": [
    "#Q6\n",
    "x = 4\n",
    "if x < 0:\n",
    "    status = \"negative\"\n",
    "elif x > 0:\n",
    "    status = \"positive\"\n",
    "else:\n",
    "    status = \"zero\"\n",
    "status"
   ]
  },
  {
   "cell_type": "code",
   "execution_count": 9,
   "id": "71865698-249b-4502-a40a-f468f9e236fb",
   "metadata": {},
   "outputs": [
    {
     "data": {
      "text/plain": [
       "14"
      ]
     },
     "execution_count": 9,
     "metadata": {},
     "output_type": "execute_result"
    }
   ],
   "source": [
    "#Q7\n",
    "nums = [3,4,1,6]\n",
    "def smart_count(numbers):\n",
    "    total = 0\n",
    "    for x in numbers:\n",
    "        if x > 10:\n",
    "            continue\n",
    "        if x < 0:\n",
    "            break\n",
    "        total += x\n",
    "    return total\n",
    "smart_count(nums)"
   ]
  },
  {
   "cell_type": "code",
   "execution_count": 10,
   "id": "7729d28b-38b7-4338-bd7f-3948d5d4f15f",
   "metadata": {},
   "outputs": [
    {
     "data": {
      "text/plain": [
       "6"
      ]
     },
     "execution_count": 10,
     "metadata": {},
     "output_type": "execute_result"
    }
   ],
   "source": [
    "#Q8\n",
    "smart_count([2,1,11,3,15,-1,8,2])"
   ]
  },
  {
   "cell_type": "code",
   "execution_count": 11,
   "id": "db0565d2-d047-42f2-81b0-7ad817f12621",
   "metadata": {},
   "outputs": [],
   "source": [
    "header = [\"A\", \"B\", \"C\"]\n",
    "\n",
    "coord1 = {\"x\": 8, \"y\": 5}\n",
    "coord2 = {\"x\": 9, \"y\": 2}\n",
    "coord3 = {\"x\": 3, \"y\": 1}\n",
    "\n",
    "rows = [[1,  6, coord1], [3, 4, coord2], [5, 2, coord3],]\n",
    "coord3[\"z\"] = 3.14"
   ]
  },
  {
   "cell_type": "code",
   "execution_count": 12,
   "id": "dd4a2437-31d2-4b58-a6fc-51a39b666f67",
   "metadata": {},
   "outputs": [
    {
     "data": {
      "text/plain": [
       "[[1, 6, {'x': 8, 'y': 5}],\n",
       " [3, 4, {'x': 9, 'y': 2}],\n",
       " [5, 2, {'x': 3, 'y': 1, 'z': 3.14}]]"
      ]
     },
     "execution_count": 12,
     "metadata": {},
     "output_type": "execute_result"
    }
   ],
   "source": [
    "#Q9\n",
    "rows = [[1, 6, {\"x\": 8, \"y\": 5}],[3, 4, {\"x\": 9, \"y\": 2}],[5, 2, {\"x\": 3, \"y\": 1, \"z\": 3.14}]]\n",
    "rows"
   ]
  },
  {
   "cell_type": "code",
   "execution_count": 13,
   "id": "ed0587f8-71b6-4193-88a0-ed028f095f2b",
   "metadata": {},
   "outputs": [
    {
     "data": {
      "text/plain": [
       "8"
      ]
     },
     "execution_count": 13,
     "metadata": {},
     "output_type": "execute_result"
    }
   ],
   "source": [
    "#Q10\n",
    "rows[0][-1][\"x\"]"
   ]
  },
  {
   "cell_type": "code",
   "execution_count": 14,
   "id": "f95aaaa4-07a7-4032-9507-81728b5975fb",
   "metadata": {},
   "outputs": [
    {
     "data": {
      "text/plain": [
       "[[1, 6, {'x': 8, 'y': 5}],\n",
       " [3, 9999, {'x': 9, 'y': 2}],\n",
       " [5, 2, {'x': 3, 'y': 1, 'z': 3.14}]]"
      ]
     },
     "execution_count": 14,
     "metadata": {},
     "output_type": "execute_result"
    }
   ],
   "source": [
    "#Q11\n",
    "import copy\n",
    "v2 = copy.copy(rows)\n",
    "v2[0] = 8888\n",
    "v2[1][1] = 9999\n",
    "rows"
   ]
  },
  {
   "cell_type": "code",
   "execution_count": 15,
   "id": "44339c15-2637-4b51-9d3f-b5c47c65f975",
   "metadata": {},
   "outputs": [
    {
     "data": {
      "text/plain": [
       "10007"
      ]
     },
     "execution_count": 15,
     "metadata": {},
     "output_type": "execute_result"
    }
   ],
   "source": [
    "#Q12\n",
    "def add_column(list_of_lists):\n",
    "    total = 0\n",
    "    for list in list_of_lists:\n",
    "        total += list[header.index(\"B\")]\n",
    "    return total\n",
    "add_column(rows)"
   ]
  },
  {
   "cell_type": "code",
   "execution_count": 16,
   "id": "352d70fb-253d-4ce5-9a21-405c03d9376f",
   "metadata": {},
   "outputs": [
    {
     "data": {
      "text/plain": [
       "[[5, 2, {'x': 3, 'y': 1, 'z': 3.14}],\n",
       " [1, 6, {'x': 8, 'y': 5}],\n",
       " [3, 9999, {'x': 9, 'y': 2}]]"
      ]
     },
     "execution_count": 16,
     "metadata": {},
     "output_type": "execute_result"
    }
   ],
   "source": [
    "#Q13\n",
    "rows.sort(key=lambda row: row[header.index(\"B\")])\n",
    "rows"
   ]
  },
  {
   "cell_type": "code",
   "execution_count": 17,
   "id": "104959e0-b246-4e50-833a-05de93fd65ef",
   "metadata": {},
   "outputs": [],
   "source": [
    "f = open(\"usd.json\")\n",
    "data = json.load(f)\n",
    "f.close()"
   ]
  },
  {
   "cell_type": "code",
   "execution_count": 18,
   "id": "5bd727a6-085e-43d0-b396-6460683a4e02",
   "metadata": {},
   "outputs": [
    {
     "data": {
      "text/plain": [
       "366.735529954884"
      ]
     },
     "execution_count": 18,
     "metadata": {},
     "output_type": "execute_result"
    }
   ],
   "source": [
    "#Q14\n",
    "usd_to_euro = data[\"eur\"][\"rate\"]\n",
    "euro = 400 * usd_to_euro\n",
    "euro"
   ]
  },
  {
   "cell_type": "code",
   "execution_count": 19,
   "id": "262dcffc-3148-4dcd-a7eb-05c7c0761d30",
   "metadata": {},
   "outputs": [],
   "source": [
    "def divide(a, b):\n",
    "    try:\n",
    "        result = a / b\n",
    "    except ZeroDivisionError:\n",
    "        result = float(\"nan\")\n",
    "    return result"
   ]
  },
  {
   "cell_type": "code",
   "execution_count": 20,
   "id": "948c4342-b5c1-4521-971e-0af8a7afe0b5",
   "metadata": {},
   "outputs": [
    {
     "data": {
      "text/plain": [
       "1.5"
      ]
     },
     "execution_count": 20,
     "metadata": {},
     "output_type": "execute_result"
    }
   ],
   "source": [
    "#Q15\n",
    "divide(3,2)"
   ]
  },
  {
   "cell_type": "code",
   "execution_count": 21,
   "id": "68dc7da0-862a-4289-9451-f74d9ffd36eb",
   "metadata": {},
   "outputs": [
    {
     "data": {
      "text/plain": [
       "nan"
      ]
     },
     "execution_count": 21,
     "metadata": {},
     "output_type": "execute_result"
    }
   ],
   "source": [
    "#Q16\n",
    "divide(-3, 0)"
   ]
  },
  {
   "cell_type": "code",
   "execution_count": 22,
   "id": "bc421c20-aa02-4847-a9de-544aa30e5b51",
   "metadata": {},
   "outputs": [
    {
     "data": {
      "text/plain": [
       "[2013, 2014, 2015, 2016, 2018, 2017]"
      ]
     },
     "execution_count": 22,
     "metadata": {},
     "output_type": "execute_result"
    }
   ],
   "source": [
    "#Q17\n",
    "years = {}\n",
    "for filename in os.listdir(\"home-computers\"):\n",
    "    if filename.endswith(\".csv\"):\n",
    "        year = int(filename[7:11])\n",
    "        data = pd.read_csv(\"home-computers/\" + filename, skiprows=1)\n",
    "        data = data.set_index(\"Geographic Area Name\")\n",
    "        years[year] = data\n",
    "list(years.keys())"
   ]
  },
  {
   "cell_type": "code",
   "execution_count": 23,
   "id": "75466c47-0b24-4d45-9110-48af76ef8869",
   "metadata": {},
   "outputs": [
    {
     "data": {
      "text/plain": [
       "2371960"
      ]
     },
     "execution_count": 23,
     "metadata": {},
     "output_type": "execute_result"
    }
   ],
   "source": [
    "#Q18\n",
    "df = years[2018]\n",
    "households = df.at[\"Wisconsin\", \"Estimate!!Total\"]\n",
    "households"
   ]
  },
  {
   "cell_type": "code",
   "execution_count": 24,
   "id": "71d1ba81-79c9-45d7-aa23-e3b6568a2a79",
   "metadata": {},
   "outputs": [
    {
     "data": {
      "text/plain": [
       "10285814"
      ]
     },
     "execution_count": 24,
     "metadata": {},
     "output_type": "execute_result"
    }
   ],
   "source": [
    "#Q19\n",
    "no_computer = df[\"Estimate!!Total!!No Computer\"]\n",
    "no_computer.sum()"
   ]
  },
  {
   "cell_type": "code",
   "execution_count": 25,
   "id": "e9462aa5-42a3-477d-a291-79d9eab38477",
   "metadata": {},
   "outputs": [
    {
     "data": {
      "text/plain": [
       "0.12375641594322287"
      ]
     },
     "execution_count": 25,
     "metadata": {},
     "output_type": "execute_result"
    }
   ],
   "source": [
    "#Q20\n",
    "estimate = df[\"Estimate!!Total!!No Computer\"]\n",
    "margin_error = df[\"Margin of Error!!Total!!No Computer\"]\n",
    "fraction = margin_error/estimate\n",
    "fraction.max()"
   ]
  },
  {
   "cell_type": "code",
   "execution_count": 26,
   "id": "8d6c7954-94c7-427a-b8f6-c72766c20784",
   "metadata": {},
   "outputs": [
    {
     "data": {
      "text/plain": [
       "{'Illinois': 8.524143737625552,\n",
       " 'Indiana': 9.463486214247707,\n",
       " 'Iowa': 9.468929459023103,\n",
       " 'Michigan': 8.936374942955922,\n",
       " 'Minnesota': 7.491847623005652,\n",
       " 'Wisconsin': 9.582497175331794}"
      ]
     },
     "execution_count": 26,
     "metadata": {},
     "output_type": "execute_result"
    }
   ],
   "source": [
    "#Q21\n",
    "neighbors = [\"Illinois\", \"Indiana\", \"Iowa\", \"Michigan\", \"Minnesota\", \"Wisconsin\"]\n",
    "stats = {}\n",
    "for state in neighbors:\n",
    "    total = df.at[state, \"Estimate!!Total\"]\n",
    "    no_computer = df.at[state, \"Estimate!!Total!!No Computer\"]\n",
    "    percentage = no_computer / total * 100\n",
    "    stats[state] = percentage\n",
    "stats\n"
   ]
  },
  {
   "cell_type": "code",
   "execution_count": 27,
   "id": "4bf344fa-7ee4-40cc-99a0-41a45370340c",
   "metadata": {},
   "outputs": [
    {
     "data": {
      "image/png": "[encoded data removed]",
      "text/plain": [
       "<Figure size 640x480 with 1 Axes>"
      ]
     },
     "metadata": {},
     "output_type": "display_data"
    }
   ],
   "source": [
    "#Q22\n",
    "percent = (years[2018][\"Estimate!!Total!!No Computer\"] / years[2018][\"Estimate!!Total\"]) * 100\n",
    "percent = percent.loc[neighbors]\n",
    "percent.plot.bar()\n",
    "plt.title(\"Percentage of Households Without a Computer (2018)\")\n",
    "plt.xlabel(\"State\")\n",
    "plt.ylabel(\"Percent (%)\")\n",
    "plt.show()"
   ]
  },
  {
   "cell_type": "code",
   "execution_count": 28,
   "id": "e24b8276-1349-4fd0-ac99-2e9bed0b4b55",
   "metadata": {},
   "outputs": [
    {
     "data": {
      "text/plain": [
       "Text(0, 0.5, 'WI Households without Computers (thousands)')"
      ]
     },
     "execution_count": 28,
     "metadata": {},
     "output_type": "execute_result"
    },
    {
     "data": {
      "image/png": "[encoded data removed]",
      "text/plain": [
       "<Figure size 640x480 with 1 Axes>"
      ]
     },
     "metadata": {},
     "output_type": "display_data"
    }
   ],
   "source": [
    "#Q23\n",
    "years_list = list(years.keys())\n",
    "wi_no_computer = {}\n",
    "for year in years_list:\n",
    "    total = (int(years[year].at[\"Wisconsin\", \"Estimate!!Total!!No Computer\"])/1000)\n",
    "    wi_no_computer[year] = total\n",
    "wi_series = pd.Series(wi_no_computer)\n",
    "line_plot = wi_series.plot.line()\n",
    "line_plot.set_xlabel(\"Year\")\n",
    "line_plot.set_ylabel(\"WI Households without Computers (thousands)\")"
   ]
  },
  {
   "cell_type": "code",
   "execution_count": 29,
   "id": "b91fd0e9-034a-40e0-aed7-8db5424db40c",
   "metadata": {},
   "outputs": [
    {
     "data": {
      "image/png": "[encoded data removed]",
      "text/plain": [
       "<Figure size 640x480 with 1 Axes>"
      ]
     },
     "metadata": {},
     "output_type": "display_data"
    }
   ],
   "source": [
    "#Q24\n",
    "smartphones = \"Estimate!!Total!!Has one or more types of computing devices!!Smartphone\"\n",
    "tablets = \"Estimate!!Total!!Has one or more types of computing devices!!Tablet or other portable wireless computer\"\n",
    "smartphone = df[smartphones] / 1e6\n",
    "tablet = df[tablets] / 1e6\n",
    "plt.scatter(smartphone, tablet)\n",
    "plt.xlabel(\"Smartphones (millions)\")\n",
    "plt.ylabel(\"Tablets (millions)\")\n",
    "plt.title(\"Relationship between households with smartphones and those with tablets\")\n",
    "plt.show()"
   ]
  },
  {
   "cell_type": "code",
   "execution_count": 30,
   "id": "36ee69e8-fa58-4c18-bcc0-85bf635d68e2",
   "metadata": {},
   "outputs": [],
   "source": [
    "import subprocess\n",
    "from subprocess import check_output\n",
    "from time import time"
   ]
  },
  {
   "cell_type": "code",
   "execution_count": 31,
   "id": "7c281d22-6289-4b3e-911d-8b4fac1dc54a",
   "metadata": {},
   "outputs": [
    {
     "name": "stderr",
     "output_type": "stream",
     "text": [
      "Already on 'main'\n"
     ]
    },
    {
     "data": {
      "text/plain": [
       "'commit 660994efc761efdfd49ca442b73f6712dc77b6cf'"
      ]
     },
     "execution_count": 31,
     "metadata": {},
     "output_type": "execute_result"
    }
   ],
   "source": [
    "#Q25\n",
    "check_output([\"git\", \"checkout\", \"main\"], cwd = \"flask\")\n",
    "lines = str(check_output([\"git\", \"log\"], cwd = \"flask\"), \"utf-8\").split(\"\\n\")\n",
    "lines[0]"
   ]
  },
  {
   "cell_type": "code",
   "execution_count": 32,
   "id": "3d927f5d-daa3-493c-af59-54e276823e92",
   "metadata": {},
   "outputs": [
    {
     "data": {
      "text/plain": [
       "['03148dba6b26a2694da1d466584f50189c52e7b3',\n",
       " 'ef524f2cfd65377b3b9ce896e7a710472b13c0f6',\n",
       " 'f2dc38cda61f76c64b97ab9f730accc986a4b188',\n",
       " '03168a5d53457fdb8676a4ac9fca0f76a23c6852',\n",
       " '0b8e01b4450d0ba8cb65751d866568fddc155fa4',\n",
       " '6a3a046f55755f0691568431e68a8bfea8d89df0',\n",
       " 'd78b04a3fca8d8887382606897d4a97e55062fda',\n",
       " '4671429a509094f36e2294055340197091d39979',\n",
       " '4e7aa9e7f7a86ee0ea4b6801694c13151518cb52',\n",
       " '85ca089dde8814c4a42ad4574cddce25d60e5e25',\n",
       " '8171da88a49eba769d313a51591ee8575be59762',\n",
       " 'df929c6c77ea5490a969275e45075c29711a498c',\n",
       " '574e81f9c8bbdc41958e1e7a7613633b091101f8',\n",
       " '1fff3e598126a084348ec2c112fdd3bc6b9a1ee0',\n",
       " '05f36c7f7e2df36ee28f90d99632162579b1287c',\n",
       " '4e1b3e1134eb478563bc434d794085d0a412cb84',\n",
       " '8e9bd5f009bb8756a2a7d76a4b792323eeee49d6',\n",
       " '9dfab582d065521e9350327801ed2c5ced1c8fa1',\n",
       " '3d719f35f5c1ee4ce3dc01fb2167ef49c0180cf6',\n",
       " '7d6b8e9ab3e738d69e39ad53a7c0f6a552d5284a',\n",
       " 'a9d4ea81da28ee9c894bf9d45adc4cfa9d52fddc',\n",
       " '727c701686c18c4a27ca523eb0c5862d497be24e',\n",
       " '4edec48b74dbb9d571e927b69b24c30ec0624975',\n",
       " '625eba4bb403296a8bbc1e72cc9cf4a5126f6c02',\n",
       " '4aa76212d1be9b17a57249549c2a73fb10b6cda8',\n",
       " '3b36bef2e6165bb4dad73d17f23ee1879e99f497',\n",
       " '44b42e0fbd93d86e0f4e929bda8e5fb63e81035d',\n",
       " '4ec7d2a0d8eac4f915dc0d38a886cd57045bb0c4',\n",
       " 'b15ad394279fc3b7f998fa56857f334a7c0156f6',\n",
       " '33850c0ebd23ae615e6823993d441f46d80b1ff0']"
      ]
     },
     "execution_count": 32,
     "metadata": {},
     "output_type": "execute_result"
    }
   ],
   "source": [
    "#Q26\n",
    "commits = []\n",
    "for i in lines:\n",
    "    numbers = i.split()\n",
    "    if len(numbers) and numbers[0] == \"commit\":\n",
    "        commits.append(numbers[1])\n",
    "commits[-30:]"
   ]
  },
  {
   "cell_type": "code",
   "execution_count": 33,
   "id": "31ebc281-a609-436e-93ce-5a77b03f8b79",
   "metadata": {},
   "outputs": [
    {
     "name": "stderr",
     "output_type": "stream",
     "text": [
      "Note: switching to 'b15ad394279fc3b7f998fa56857f334a7c0156f6'.\n",
      "\n",
      "You are in 'detached HEAD' state. You can look around, make experimental\n",
      "changes and commit them, and you can discard any commits you make in this\n",
      "state without impacting any branches by switching back to a branch.\n",
      "\n",
      "If you want to create a new branch to retain commits you create, you may\n",
      "do so (now or later) by using -c with the switch command. Example:\n",
      "\n",
      "  git switch -c <new-branch-name>\n",
      "\n",
      "Or undo this operation with:\n",
      "\n",
      "  git switch -\n",
      "\n",
      "Turn off this advice by setting config variable advice.detachedHead to false\n",
      "\n",
      "HEAD is now at b15ad394 Added setup.py and README\n"
     ]
    },
    {
     "data": {
      "text/plain": [
       "\"\\n                        // Flask //\\n\\n     because a pocket knife is not the only thing that\\n                    might come in handy\\n\\n\\n    ~ What is Flask?\\n\\n      Flask is a microframework for Python based on Werkzeug\\n      and Jinja2.  It's intended for small scale applications\\n      and was development with best intentions in mind.\\n\\n   ~ Is it ready?\\n\\n      Nope, this is still work in progress, but I am happy to\\n      accept patches and improvements already.\\n\""
      ]
     },
     "execution_count": 33,
     "metadata": {},
     "output_type": "execute_result"
    }
   ],
   "source": [
    "#Q27\n",
    "str(subprocess.check_output([\"git\", \"checkout\", commits[-2]], cwd=\"flask\"), \"utf-8\")\n",
    "f = open(\"flask/README\", \"r\")\n",
    "f.read()"
   ]
  },
  {
   "cell_type": "code",
   "execution_count": 34,
   "id": "6815d9a8-f85a-40ff-8810-129551cb9005",
   "metadata": {},
   "outputs": [
    {
     "name": "stderr",
     "output_type": "stream",
     "text": [
      "Previous HEAD position was b15ad394 Added setup.py and README\n",
      "Switched to branch 'main'\n"
     ]
    },
    {
     "data": {
      "text/plain": [
       "{'pallets': 204,\n",
       " 'pgjones': 14,\n",
       " 'greyli': 42,\n",
       " 'ThiefMaster': 11,\n",
       " 'jeffwidman': 8,\n",
       " 'garenchan': 8,\n",
       " 'davidism': 45,\n",
       " 'dawran6': 7,\n",
       " 'untitaker': 20,\n",
       " 'lord63-forks': 5,\n",
       " 'methane': 5,\n",
       " 'Winnetou': 6,\n",
       " 'defuz': 6,\n",
       " 'ThomasWaldmann': 13,\n",
       " 'SimonSapin': 11}"
      ]
     },
     "execution_count": 34,
     "metadata": {},
     "output_type": "execute_result"
    }
   ],
   "source": [
    "#Q28\n",
    "\n",
    "subprocess.check_output(['git', 'checkout','main'], cwd= \"flask\")\n",
    "outputs = str(subprocess.check_output([\"git\", \"log\"], cwd = \"flask\"), \"utf-8\").split(\"\\n\")\n",
    "\n",
    "username_dict1 = {}\n",
    "\n",
    "for i in outputs:\n",
    "    if \"Merge pull request\" in i and \"/\" in i:\n",
    "        username = i.split(\"/\")[0].split(' ')[-1]\n",
    "        if username not in username_dict1:\n",
    "            username_dict1[username] = 1\n",
    "        else:\n",
    "            username_dict1[username] += 1\n",
    "            \n",
    "username_dict2 = {}\n",
    "for x in username_dict1:\n",
    "    if username_dict1[x] >= 5:\n",
    "        username_dict2[x] = username_dict1[x]\n",
    "        \n",
    "username_dict2"
   ]
  },
  {
   "cell_type": "code",
   "execution_count": 35,
   "id": "2067743b-ad60-4e23-8c1e-4057c042b510",
   "metadata": {},
   "outputs": [
    {
     "data": {
      "text/plain": [
       "'ERROR: unknown command \"instal\" - maybe you meant \"install\"\\n'"
      ]
     },
     "execution_count": 35,
     "metadata": {},
     "output_type": "execute_result"
    }
   ],
   "source": [
    "#Q29\n",
    "import subprocess\n",
    "try:\n",
    "    msg = subprocess.check_output([\"pip3\", \"instal\"], stderr=subprocess.STDOUT)\n",
    "except subprocess.CalledProcessError as e:\n",
    "    msg = e.output\n",
    "msg.decode(\"utf-8\")"
   ]
  },
  {
   "cell_type": "code",
   "execution_count": 36,
   "id": "a553fd04-9f99-4396-8e27-1e2efc540d57",
   "metadata": {},
   "outputs": [
    {
     "data": {
      "text/plain": [
       "Text(0, 0.5, 'Milliseconds')"
      ]
     },
     "execution_count": 36,
     "metadata": {},
     "output_type": "execute_result"
    },
    {
     "data": {
      "image/png": "[encoded data removed]",
      "text/plain": [
       "<Figure size 640x480 with 1 Axes>"
      ]
     },
     "metadata": {},
     "output_type": "display_data"
    }
   ],
   "source": [
    "#Q30\n",
    "import time\n",
    "import pandas as pd\n",
    "import numpy as np\n",
    "from matplotlib import pyplot as plt\n",
    "\n",
    "def rand_df(rows):\n",
    "    return pd.DataFrame(np.random.randint(10, size=(rows, 4)),\n",
    "                        columns=[\"A\", \"B\", \"C\", \"D\"],\n",
    "                        index=[f\"r{i}\" for i in range(1, rows+1)])\n",
    "\n",
    "results = pd.DataFrame(dtype = float)\n",
    "\n",
    "for rows in range(1000, 6000, 1000):\n",
    "    df = rand_df(rows)\n",
    "    start1 = time.time()\n",
    "    for i in df.iterrows():\n",
    "        pass\n",
    "    end1 = time.time()\n",
    "    iter_time = (end1 - start1) * 1000 \n",
    "    start2 = time.time()\n",
    "    for i in df.itertuples():\n",
    "        pass\n",
    "    end2 = time.time()\n",
    "    tuple_time = (end2 - start2) * 1000\n",
    "    results.at[rows, \"iterrows\"] = iter_time\n",
    "    results.at[rows, \"itertuples\"] = tuple_time\n",
    "plot = results.plot.line()\n",
    "plot.set_xlabel(\"Rows\")\n",
    "plot.set_ylabel(\"Milliseconds\")"
   ]
  },
  {
   "cell_type": "code",
   "execution_count": 37,
   "id": "83dfda69-8048-432b-9499-861f0e03210f",
   "metadata": {},
   "outputs": [
    {
     "data": {
      "text/plain": [
       "Text(0, 0.5, 'Milliseconds')"
      ]
     },
     "execution_count": 37,
     "metadata": {},
     "output_type": "execute_result"
    },
    {
     "data": {
      "image/png": "[encoded data removed]",
      "text/plain": [
       "<Figure size 640x480 with 1 Axes>"
      ]
     },
     "metadata": {},
     "output_type": "display_data"
    }
   ],
   "source": [
    "#Q31\n",
    "results2 = pd.DataFrame(dtype = float)\n",
    "\n",
    "for rows in range(1000, 6000, 1000):\n",
    "    df = rand_df(rows)\n",
    "    start1 = time.time()\n",
    "    count = 0\n",
    "    for row in df.index:\n",
    "        for col in df.columns:\n",
    "            count += df.loc[row, col]\n",
    "    end1 = time.time()\n",
    "    loc_time = (end1 - start1) * 1000   \n",
    "    start2 = time.time()\n",
    "    count = 0\n",
    "    for row in df.index:\n",
    "        for col in df.columns:\n",
    "            count += df.at[row, col]\n",
    "    end2 = time.time()\n",
    "    at_time = (end2 - start2) * 1000\n",
    "    results2.at[rows, \"loc\"] = loc_time\n",
    "    results2.at[rows, \"at\"] = at_time    \n",
    "plot2 = results2.plot.line()\n",
    "plot2.set_xlabel(\"Rows\")\n",
    "plot2.set_ylabel(\"Milliseconds\")"
   ]
  },
  {
   "cell_type": "code",
   "execution_count": 38,
   "id": "eb5ec457-0392-4696-8edc-ab01855b0d4a",
   "metadata": {},
   "outputs": [
    {
     "data": {
      "text/plain": [
       "Text(0, 0.5, 'Milliseconds')"
      ]
     },
     "execution_count": 38,
     "metadata": {},
     "output_type": "execute_result"
    },
    {
     "data": {
      "image/png": "[encoded data removed]",
      "text/plain": [
       "<Figure size 640x480 with 1 Axes>"
      ]
     },
     "metadata": {},
     "output_type": "display_data"
    }
   ],
   "source": [
    "#Q32\n",
    "results3 = pd.DataFrame(dtype = float)\n",
    "def laugh(x):\n",
    "    return \"ha\" * x\n",
    "\n",
    "for rows in range(1000, 21000, 1000):\n",
    "    df = rand_df(rows)\n",
    "    start1 = time.time()\n",
    "    result = df[\"A\"].apply(laugh).tolist()\n",
    "    end1 = time.time()\n",
    "    apply_time = (end1 - start1) * 1000\n",
    "    start2 = time.time()\n",
    "    result = []\n",
    "    for idx in df[\"A\"]:\n",
    "        result.append(laugh(idx))\n",
    "    end2 = time.time()\n",
    "    loop_time = (end2 - start2) * 1000\n",
    "    results3.at[rows, \"apply\"] = apply_time\n",
    "    results3.at[rows, \"loop\"] = loop_time\n",
    "plot3 = results3.plot.line()\n",
    "plot3.set_xlabel(\"Rows\")\n",
    "plot3.set_ylabel(\"Milliseconds\")"
   ]
  },
  {
   "cell_type": "code",
   "execution_count": null,
   "id": "29ee3fbb-e0ad-4314-8205-6f67a670feff",
   "metadata": {},
   "outputs": [],
   "source": []
  }
 ],
 "metadata": {
  "kernelspec": {
   "display_name": "Python 3 (ipykernel)",
   "language": "python",
   "name": "python3"
  },
  "language_info": {
   "codemirror_mode": {
    "name": "ipython",
    "version": 3
   },
   "file_extension": ".py",
   "mimetype": "text/x-python",
   "name": "python",
   "nbconvert_exporter": "python",
   "pygments_lexer": "ipython3",
   "version": "3.10.6"
  }
 },
 "nbformat": 4,
 "nbformat_minor": 5
}
