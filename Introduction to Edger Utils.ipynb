{
 "cells": [
  {
   "cell_type": "code",
   "execution_count": 1,
   "id": "b529030f-37da-4997-9a3a-e605d14c2ab6",
   "metadata": {},
   "outputs": [],
   "source": [
    "# project: p5\n",
    "# submitter: raffanti\n",
    "# partner: none\n",
    "# hours: 12"
   ]
  },
  {
   "cell_type": "code",
   "execution_count": 2,
   "id": "81d9d571-b895-4253-821e-d0fa26c946ce",
   "metadata": {},
   "outputs": [],
   "source": [
    "import pandas as pd\n",
    "import zipfile\n",
    "from edgar_utils import lookup_region, Filing\n",
    "\n",
    "with zipfile.ZipFile('docs.zip', 'r') as z:\n",
    "    with z.open('1461219/0000000000-13-001261/-index.htm') as f:\n",
    "        content = f.read().decode('utf-8')\n",
    "\n",
    "with zipfile.ZipFile('server_log.zip', 'r') as z:\n",
    "    with z.open('rows.csv') as f:\n",
    "        logs = pd.read_csv(f)"
   ]
  },
  {
   "cell_type": "code",
   "execution_count": 3,
   "id": "7cae426b-eac1-4b26-b3ed-a38a7c3ea8e1",
   "metadata": {},
   "outputs": [
    {
     "data": {
      "text/plain": [
       "24801002666"
      ]
     },
     "execution_count": 3,
     "metadata": {},
     "output_type": "execute_result"
    }
   ],
   "source": [
    "#Q1\n",
    "total_size = logs['size'].sum()\n",
    "int(total_size)"
   ]
  },
  {
   "cell_type": "code",
   "execution_count": 4,
   "id": "f683dce5-150e-43df-9807-eccc75682fc6",
   "metadata": {},
   "outputs": [
    {
     "data": {
      "text/plain": [
       "{'54.152.17.ccg': 12562,\n",
       " '183.195.251.hah': 6524,\n",
       " '52.45.218.ihf': 5562,\n",
       " '68.180.231.abf': 5493,\n",
       " '204.212.175.bch': 4708,\n",
       " '103.238.106.gif': 4428,\n",
       " '208.77.215.jeh': 3903,\n",
       " '208.77.214.jeh': 3806,\n",
       " '217.174.255.dgd': 3551,\n",
       " '82.13.163.caf': 3527}"
      ]
     },
     "execution_count": 4,
     "metadata": {},
     "output_type": "execute_result"
    }
   ],
   "source": [
    "#Q2\n",
    "top_ten_ips = logs.groupby('ip').size().sort_values(ascending=False).head(10).to_dict()\n",
    "top_ten_ips"
   ]
  },
  {
   "cell_type": "code",
   "execution_count": 5,
   "id": "f71a6f45-90b5-4ec1-8833-7410f0b9bf66",
   "metadata": {},
   "outputs": [
    {
     "data": {
      "text/plain": [
       "0.03466852724527611"
      ]
     },
     "execution_count": 5,
     "metadata": {},
     "output_type": "execute_result"
    }
   ],
   "source": [
    "#Q3\n",
    "error_fraction = (logs['code'] >= 400).mean()\n",
    "error_fraction"
   ]
  },
  {
   "cell_type": "code",
   "execution_count": 6,
   "id": "5d24c38d-e255-4714-9e49-0481dd593544",
   "metadata": {},
   "outputs": [
    {
     "data": {
      "text/plain": [
       "'1627631/0001627631-15-000004/.txt'"
      ]
     },
     "execution_count": 6,
     "metadata": {},
     "output_type": "execute_result"
    }
   ],
   "source": [
    "#Q4\n",
    "most_frequent_file = logs.groupby(['cik', 'accession', 'extention']).size().idxmax()\n",
    "most_frequent_file_str = f\"{int(most_frequent_file[0])}/{most_frequent_file[1]}/{most_frequent_file[2]}\"\n",
    "most_frequent_file_str"
   ]
  },
  {
   "cell_type": "code",
   "execution_count": 7,
   "id": "ccf6183c-86fa-4a63-ae33-c150544f16b0",
   "metadata": {},
   "outputs": [
    {
     "data": {
      "text/plain": [
       "971"
      ]
     },
     "execution_count": 7,
     "metadata": {},
     "output_type": "execute_result"
    }
   ],
   "source": [
    "#Q5\n",
    "crawler_requests = logs[logs['crawler'] == 1].shape[0]\n",
    "crawler_requests"
   ]
  },
  {
   "cell_type": "code",
   "execution_count": 8,
   "id": "30260c1a-5e3f-485a-9971-d8c4daa8bc3b",
   "metadata": {},
   "outputs": [
    {
     "data": {
      "text/plain": [
       "'United States of America'"
      ]
     },
     "execution_count": 8,
     "metadata": {},
     "output_type": "execute_result"
    }
   ],
   "source": [
    "#Q6\n",
    "with zipfile.ZipFile('server_log.zip', 'r') as z:\n",
    "    logs = pd.read_csv(z.open('rows.csv'))\n",
    "logs['region'] = logs['ip'].apply(lookup_region)\n",
    "most_used_region = logs['region'].value_counts().idxmax()\n",
    "most_used_region"
   ]
  },
  {
   "cell_type": "code",
   "execution_count": 9,
   "id": "27a5510f-0589-44bd-89c8-1b596e9b0611",
   "metadata": {},
   "outputs": [],
   "source": [
    "#Q7"
   ]
  },
  {
   "cell_type": "code",
   "execution_count": 10,
   "id": "fbf8dddb-e28a-4d3b-b41a-0b93555cb563",
   "metadata": {},
   "outputs": [
    {
     "data": {
      "text/plain": [
       "['2007-07-25', '2007-07-25', '2007-07-23']"
      ]
     },
     "execution_count": 10,
     "metadata": {},
     "output_type": "execute_result"
    }
   ],
   "source": [
    "#Q8\n",
    "filings = {}\n",
    "with zipfile.ZipFile('docs.zip', 'r') as z:\n",
    "    for file in z.namelist():\n",
    "        if file.endswith('.htm') or file.endswith('.html'):\n",
    "            with z.open(file) as f:\n",
    "                content = f.read().decode('utf-8')\n",
    "            filings[file] = Filing(content)\n",
    "file_850693_dates = filings['850693/0000850693-07-000159/-index.htm'].dates\n",
    "file_850693_dates"
   ]
  },
  {
   "cell_type": "code",
   "execution_count": 11,
   "id": "c0d73d69-08be-4bb8-a4c4-1295e60a4a4c",
   "metadata": {},
   "outputs": [
    {
     "data": {
      "text/plain": [
       "{'CA': 92,\n",
       " 'NJ': 23,\n",
       " 'MS': 1,\n",
       " 'MA': 30,\n",
       " 'CO': 25,\n",
       " 'NY': 83,\n",
       " 'TX': 67,\n",
       " 'FL': 21,\n",
       " 'AL': 1,\n",
       " 'IN': 5,\n",
       " 'CT': 14,\n",
       " 'UT': 5,\n",
       " 'MD': 13,\n",
       " 'KS': 5,\n",
       " 'VA': 15,\n",
       " 'OH': 10,\n",
       " 'SD': 1,\n",
       " 'DE': 9,\n",
       " 'IL': 25,\n",
       " 'GA': 9,\n",
       " 'NC': 9,\n",
       " 'PA': 25,\n",
       " 'TN': 4,\n",
       " 'MN': 15,\n",
       " 'NM': 1,\n",
       " 'KY': 2,\n",
       " 'OK': 7,\n",
       " 'AR': 1,\n",
       " 'NV': 6,\n",
       " 'VT': 1,\n",
       " 'MO': 4,\n",
       " 'MI': 11,\n",
       " 'NE': 2,\n",
       " 'IA': 6,\n",
       " 'AZ': 5,\n",
       " 'WI': 9,\n",
       " 'LA': 2,\n",
       " 'ID': 1,\n",
       " 'OR': 2,\n",
       " 'WV': 2,\n",
       " 'WA': 3,\n",
       " 'DC': 1,\n",
       " 'ME': 1}"
      ]
     },
     "execution_count": 11,
     "metadata": {},
     "output_type": "execute_result"
    }
   ],
   "source": [
    "#Q9\n",
    "import zipfile\n",
    "from collections import defaultdict\n",
    "from edgar_utils import Filing\n",
    "\n",
    "# Step 1: Extract the documents from docs.zip\n",
    "with zipfile.ZipFile('docs.zip', 'r') as z:\n",
    "    docs = [z.read(name).decode() for name in z.namelist()]\n",
    "\n",
    "# Step 2: Instantiate a Filing object for each document and retrieve the state information\n",
    "states = [Filing(doc).state() for doc in docs]\n",
    "\n",
    "# Step 3: Count the occurrences of each state\n",
    "state_counts = defaultdict(int)\n",
    "for state in states:\n",
    "    if state is not None:\n",
    "        state_counts[state] += 1\n",
    "\n",
    "# Step 4: Create a dictionary with states as keys and counts as values\n",
    "state_counts_dict = dict(state_counts)\n",
    "\n",
    "# Output the dictionary\n",
    "state_counts_dict"
   ]
  },
  {
   "cell_type": "code",
   "execution_count": 12,
   "id": "af77bec8-009a-4730-9424-99be018910ae",
   "metadata": {},
   "outputs": [
    {
     "data": {
      "text/plain": [
       "{2834: 40,\n",
       " 6022: 20,\n",
       " 1311: 20,\n",
       " 6189: 17,\n",
       " 6211: 17,\n",
       " 8731: 2,\n",
       " 1389: 19,\n",
       " 7370: 7,\n",
       " 3571: 1,\n",
       " 7361: 1,\n",
       " 3674: 5,\n",
       " 4931: 5,\n",
       " 1040: 2,\n",
       " 2810: 2,\n",
       " 7389: 11,\n",
       " 3140: 1,\n",
       " 7374: 4,\n",
       " 6200: 1,\n",
       " 7381: 1,\n",
       " 3620: 3,\n",
       " 3841: 6,\n",
       " 4941: 1,\n",
       " 5621: 1,\n",
       " 7330: 1,\n",
       " 6199: 8,\n",
       " 6798: 20,\n",
       " 2510: 4,\n",
       " 3990: 2,\n",
       " 1700: 5,\n",
       " 7371: 6,\n",
       " 5940: 2,\n",
       " 4522: 5,\n",
       " 1731: 2,\n",
       " 6311: 2,\n",
       " 8082: 2,\n",
       " 2836: 13,\n",
       " 6021: 20,\n",
       " 1000: 11,\n",
       " 4911: 8,\n",
       " 6324: 2,\n",
       " 8051: 1,\n",
       " 6035: 4,\n",
       " 3550: 1,\n",
       " 4813: 4,\n",
       " 6321: 2,\n",
       " 2890: 1,\n",
       " 3845: 2,\n",
       " 2860: 8,\n",
       " 1221: 2,\n",
       " 3669: 2,\n",
       " 6411: 1,\n",
       " 5900: 2,\n",
       " 2320: 1,\n",
       " 6221: 3,\n",
       " 6331: 10,\n",
       " 2070: 1,\n",
       " 8742: 5,\n",
       " 3829: 3,\n",
       " 900: 5,\n",
       " 5500: 2,\n",
       " 7372: 11,\n",
       " 6770: 1,\n",
       " 4841: 2,\n",
       " 4833: 1,\n",
       " 7384: 1,\n",
       " 6799: 3,\n",
       " 3826: 5,\n",
       " 8711: 2,\n",
       " 5160: 1,\n",
       " 5944: 1,\n",
       " 3420: 3,\n",
       " 3510: 3,\n",
       " 5960: 1,\n",
       " 3842: 4,\n",
       " 8062: 3,\n",
       " 6029: 11,\n",
       " 7320: 1,\n",
       " 5172: 2,\n",
       " 1382: 2,\n",
       " 3663: 4,\n",
       " 1400: 3,\n",
       " 7822: 1,\n",
       " 2024: 1,\n",
       " 2080: 1,\n",
       " 7812: 2,\n",
       " 4922: 2,\n",
       " 2030: 1,\n",
       " 3576: 3,\n",
       " 2711: 1,\n",
       " 3578: 1,\n",
       " 3679: 2,\n",
       " 2842: 1,\n",
       " 4899: 1,\n",
       " 100: 1,\n",
       " 3541: 1,\n",
       " 7311: 1,\n",
       " 3317: 1,\n",
       " 2033: 1,\n",
       " 3721: 1,\n",
       " 3621: 2,\n",
       " 3730: 1,\n",
       " 5122: 2,\n",
       " 3585: 1,\n",
       " 3944: 1,\n",
       " 5812: 4,\n",
       " 3661: 2,\n",
       " 3577: 2,\n",
       " 3711: 1,\n",
       " 2800: 3,\n",
       " 3490: 1,\n",
       " 4924: 1,\n",
       " 3537: 1,\n",
       " 8093: 1,\n",
       " 6141: 2,\n",
       " 4412: 1,\n",
       " 3272: 2,\n",
       " 2911: 1,\n",
       " 7200: 3,\n",
       " 3695: 2,\n",
       " 6282: 8,\n",
       " 6513: 1,\n",
       " 6099: 1,\n",
       " 7373: 3,\n",
       " 3559: 2,\n",
       " 7350: 1,\n",
       " 3690: 2,\n",
       " 3714: 1,\n",
       " 7363: 1,\n",
       " 2111: 2,\n",
       " 3825: 2,\n",
       " 8200: 1,\n",
       " 5990: 1,\n",
       " 3630: 1,\n",
       " 1531: 2,\n",
       " 1381: 1,\n",
       " 5961: 1,\n",
       " 2870: 2,\n",
       " 5030: 1,\n",
       " 5731: 1,\n",
       " 2780: 1,\n",
       " 2820: 1,\n",
       " 2670: 1,\n",
       " 3312: 1,\n",
       " 3590: 1,\n",
       " 4812: 2,\n",
       " 5065: 2,\n",
       " 6036: 1,\n",
       " 7900: 2,\n",
       " 5661: 2,\n",
       " 2790: 1,\n",
       " 7340: 1,\n",
       " 5651: 1,\n",
       " 3442: 1,\n",
       " 6500: 1,\n",
       " 4512: 2,\n",
       " 7841: 1,\n",
       " 8090: 1,\n",
       " 4955: 1,\n",
       " 5311: 1,\n",
       " 2750: 1,\n",
       " 7830: 2,\n",
       " 4213: 1,\n",
       " 3672: 1,\n",
       " 5531: 1,\n",
       " 2430: 1,\n",
       " 6111: 1,\n",
       " 5945: 1,\n",
       " 3678: 1,\n",
       " 6792: 1,\n",
       " 3827: 1,\n",
       " 3443: 1,\n",
       " 7990: 1,\n",
       " 2273: 1,\n",
       " 1623: 1}"
      ]
     },
     "execution_count": 12,
     "metadata": {},
     "output_type": "execute_result"
    }
   ],
   "source": [
    "#Q10\n",
    "sic_distribution = {}\n",
    "for filing in filings.values():\n",
    "    sic = filing.sic\n",
    "    if sic:\n",
    "        if sic not in sic_distribution:\n",
    "            sic_distribution[sic] = 0\n",
    "        sic_distribution[sic] += 1\n",
    "sic_distribution"
   ]
  },
  {
   "cell_type": "code",
   "execution_count": 13,
   "id": "773e05a6-1a4c-4602-a85c-87db7ced6b23",
   "metadata": {},
   "outputs": [],
   "source": [
    "#Q11"
   ]
  },
  {
   "cell_type": "code",
   "execution_count": 14,
   "id": "2e3735fe-9ab6-4ab4-98e6-132ff04e63a2",
   "metadata": {},
   "outputs": [],
   "source": [
    "#Q12"
   ]
  },
  {
   "cell_type": "code",
   "execution_count": 15,
   "id": "78b6a621-55a0-4e94-adcc-4dcce78f57fa",
   "metadata": {},
   "outputs": [],
   "source": [
    "#Q13"
   ]
  },
  {
   "cell_type": "code",
   "execution_count": 16,
   "id": "e016f07a-9591-4789-a322-4f76db2845f9",
   "metadata": {},
   "outputs": [],
   "source": [
    "#Q14"
   ]
  },
  {
   "cell_type": "code",
   "execution_count": 17,
   "id": "48f7e319-f731-4f74-a178-e96712ac7b79",
   "metadata": {},
   "outputs": [],
   "source": [
    "#Q15"
   ]
  }
 ],
 "metadata": {
  "kernelspec": {
   "display_name": "Python 3 (ipykernel)",
   "language": "python",
   "name": "python3"
  },
  "language_info": {
   "codemirror_mode": {
    "name": "ipython",
    "version": 3
   },
   "file_extension": ".py",
   "mimetype": "text/x-python",
   "name": "python",
   "nbconvert_exporter": "python",
   "pygments_lexer": "ipython3",
   "version": "3.10.6"
  }
 },
 "nbformat": 4,
 "nbformat_minor": 5
}
